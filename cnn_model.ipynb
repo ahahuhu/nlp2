{
 "cells": [
  {
   "cell_type": "markdown",
   "id": "7b1828ab",
   "metadata": {},
   "source": [
    "#### 数据预处理"
   ]
  },
  {
   "cell_type": "markdown",
   "id": "b7850aa8",
   "metadata": {},
   "source": [
    "下载分词器"
   ]
  },
  {
   "cell_type": "code",
   "execution_count": 2,
   "id": "7159712c",
   "metadata": {},
   "outputs": [],
   "source": [
    "from transformers import BertTokenizer, BertModel\n",
    "import torch\n",
    "from torch import nn\n",
    "import os\n",
    "import random\n",
    "import torch.utils\n",
    "import torch.utils.data\n",
    "\n",
    "device = \"cuda\" if torch.cuda.is_available() else \"cpu\""
   ]
  },
  {
   "cell_type": "code",
   "execution_count": null,
   "id": "c8b48c0b",
   "metadata": {},
   "outputs": [
    {
     "data": {
      "text/plain": [
       "BertModel(\n",
       "  (embeddings): BertEmbeddings(\n",
       "    (word_embeddings): Embedding(30522, 768, padding_idx=0)\n",
       "    (position_embeddings): Embedding(512, 768)\n",
       "    (token_type_embeddings): Embedding(2, 768)\n",
       "    (LayerNorm): LayerNorm((768,), eps=1e-12, elementwise_affine=True)\n",
       "    (dropout): Dropout(p=0.1, inplace=False)\n",
       "  )\n",
       "  (encoder): BertEncoder(\n",
       "    (layer): ModuleList(\n",
       "      (0-11): 12 x BertLayer(\n",
       "        (attention): BertAttention(\n",
       "          (self): BertSdpaSelfAttention(\n",
       "            (query): Linear(in_features=768, out_features=768, bias=True)\n",
       "            (key): Linear(in_features=768, out_features=768, bias=True)\n",
       "            (value): Linear(in_features=768, out_features=768, bias=True)\n",
       "            (dropout): Dropout(p=0.1, inplace=False)\n",
       "          )\n",
       "          (output): BertSelfOutput(\n",
       "            (dense): Linear(in_features=768, out_features=768, bias=True)\n",
       "            (LayerNorm): LayerNorm((768,), eps=1e-12, elementwise_affine=True)\n",
       "            (dropout): Dropout(p=0.1, inplace=False)\n",
       "          )\n",
       "        )\n",
       "        (intermediate): BertIntermediate(\n",
       "          (dense): Linear(in_features=768, out_features=3072, bias=True)\n",
       "          (intermediate_act_fn): GELUActivation()\n",
       "        )\n",
       "        (output): BertOutput(\n",
       "          (dense): Linear(in_features=3072, out_features=768, bias=True)\n",
       "          (LayerNorm): LayerNorm((768,), eps=1e-12, elementwise_affine=True)\n",
       "          (dropout): Dropout(p=0.1, inplace=False)\n",
       "        )\n",
       "      )\n",
       "    )\n",
       "  )\n",
       "  (pooler): BertPooler(\n",
       "    (dense): Linear(in_features=768, out_features=768, bias=True)\n",
       "    (activation): Tanh()\n",
       "  )\n",
       ")"
      ]
     },
     "execution_count": 3,
     "metadata": {},
     "output_type": "execute_result"
    }
   ],
   "source": [
    "# 使用bert的tokenizer和embeddings\n",
    "tokenizer = BertTokenizer.from_pretrained('bert-base-uncased')\n",
    "bert = BertModel.from_pretrained('bert-base-uncased')\n",
    "bert = bert.to(device)\n",
    "bert.eval()"
   ]
  },
  {
   "cell_type": "markdown",
   "id": "6934b8a8",
   "metadata": {},
   "source": [
    "读取数据,预处理数据"
   ]
  },
  {
   "cell_type": "code",
   "execution_count": 4,
   "id": "f2a21ca2",
   "metadata": {},
   "outputs": [],
   "source": [
    "with open(\"data/rt-polarity.neg\") as f:\n",
    "    data_neg = []\n",
    "    for line in f.readlines():\n",
    "        data_neg.append(line.strip())\n",
    "\n",
    "with open(\"data/rt-polarity.pos\") as f:\n",
    "    data_pos = []\n",
    "    for line in f.readlines():\n",
    "        data_pos.append(line.strip())"
   ]
  },
  {
   "cell_type": "markdown",
   "id": "792dffdc",
   "metadata": {},
   "source": [
    "创造dataset"
   ]
  },
  {
   "cell_type": "code",
   "execution_count": 5,
   "id": "9e46fa9a",
   "metadata": {},
   "outputs": [
    {
     "name": "stdout",
     "output_type": "stream",
     "text": [
      "训练集样本数: 8528\n",
      "测试集样本数: 2133\n"
     ]
    }
   ],
   "source": [
    "class SentimentClass(torch.utils.data.Dataset):\n",
    "    def __init__(self, data, label) -> None:\n",
    "        super().__init__()\n",
    "        self.data = data\n",
    "        self.label = label\n",
    "    \n",
    "    def __len__(self)-> int:\n",
    "        return len(self.data)\n",
    "    \n",
    "    def __getitem__(self, index) -> tuple:\n",
    "        return self.data[index], self.label[index]\n",
    "\n",
    "# 合并正负样本，创建标签\n",
    "all_data = data_pos + data_neg\n",
    "all_labels = [1] * len(data_pos) + [0] * len(data_neg)\n",
    "\n",
    "# 打乱数据\n",
    "combined = list(zip(all_data, all_labels))\n",
    "random.shuffle(combined)\n",
    "all_data, all_labels = zip(*combined)\n",
    "\n",
    "# 划分训练集和测试集（80%训练，20%测试）\n",
    "split_idx = int(0.8 * len(all_data))\n",
    "train_data, train_labels = list(all_data[:split_idx]), list(all_labels[:split_idx])\n",
    "test_data, test_labels = list(all_data[split_idx:]), list(all_labels[split_idx:])\n",
    "\n",
    "# 创建Dataset对象\n",
    "train_dataset = SentimentClass(train_data, train_labels)\n",
    "test_dataset = SentimentClass(test_data, test_labels)\n",
    "\n",
    "print(f\"训练集样本数: {len(train_dataset)}\")\n",
    "print(f\"测试集样本数: {len(test_dataset)}\")"
   ]
  },
  {
   "cell_type": "markdown",
   "id": "9e8a0482",
   "metadata": {},
   "source": [
    "创建dataloader"
   ]
  },
  {
   "cell_type": "code",
   "execution_count": 6,
   "id": "c06a1d46",
   "metadata": {},
   "outputs": [],
   "source": [
    "# 定义collate_fn，将文本批量编码为BERT词向量\n",
    "def collate_fn(batch):\n",
    "    texts, labels = zip(*batch)\n",
    "    # tokenizer需提前定义好\n",
    "    encodings = tokenizer(list(texts),\n",
    "                         truncation=True,\n",
    "                         padding=True,\n",
    "                         max_length=128,\n",
    "                         return_tensors='pt')\n",
    "    # 返回input_ids, attention_mask, labels等\n",
    "    return encodings['input_ids'], encodings['attention_mask'], torch.tensor(labels)"
   ]
  },
  {
   "cell_type": "code",
   "execution_count": 7,
   "id": "a15452a6",
   "metadata": {},
   "outputs": [],
   "source": [
    "# 创建DataLoader时，加入collate_fn\n",
    "train_dataloader = torch.utils.data.DataLoader(\n",
    "    train_dataset, batch_size=64, shuffle=True, collate_fn=collate_fn)\n",
    "test_dataloader = torch.utils.data.DataLoader(\n",
    "    test_dataset, batch_size=64, shuffle=True, collate_fn=collate_fn)"
   ]
  },
  {
   "cell_type": "markdown",
   "id": "5158874d",
   "metadata": {},
   "source": [
    "#### 创造cnn模型"
   ]
  },
  {
   "cell_type": "code",
   "execution_count": 8,
   "id": "d24fd0b9",
   "metadata": {},
   "outputs": [
    {
     "name": "stdout",
     "output_type": "stream",
     "text": [
      "Using cuda device\n"
     ]
    }
   ],
   "source": [
    "\n",
    "print(f\"Using {device} device\")"
   ]
  },
  {
   "cell_type": "code",
   "execution_count": 9,
   "id": "75b81ae6",
   "metadata": {},
   "outputs": [],
   "source": [
    "class CNNModel(nn.Module):\n",
    "    def __init__(self, embed_dim=768, num_classes=2, conv_layers=2, dropout=0.2, kernel_size=3, hidden_channels=128):\n",
    "        super().__init__()\n",
    "        layers = []\n",
    "        in_channels = embed_dim\n",
    "        for i in range(conv_layers):\n",
    "            out_channels = hidden_channels\n",
    "            layers.append(nn.Conv1d(in_channels, out_channels, kernel_size, padding=kernel_size//2))\n",
    "            layers.append(nn.ReLU())\n",
    "            in_channels = out_channels\n",
    "        self.conv = nn.Sequential(*layers)\n",
    "        self.pool = nn.AdaptiveMaxPool1d(1)\n",
    "        self.dropout = nn.Dropout(dropout)\n",
    "        self.fc = nn.Linear(hidden_channels, num_classes)\n",
    "\n",
    "    def forward(self, x):\n",
    "        # x: (batch, seq_len, embed_dim)\n",
    "        x = x.transpose(1, 2)  # (batch, embed_dim, seq_len)\n",
    "        x = self.conv(x)\n",
    "        x = self.pool(x).squeeze(-1)  # (batch, hidden_channels)\n",
    "        x = self.dropout(x)\n",
    "        x = self.fc(x)\n",
    "        return x"
   ]
  },
  {
   "cell_type": "markdown",
   "id": "9357d99c",
   "metadata": {},
   "source": [
    "#### 创建优化器"
   ]
  },
  {
   "cell_type": "code",
   "execution_count": null,
   "id": "03a81920",
   "metadata": {},
   "outputs": [],
   "source": [
    "# 创建模型和优化器\n",
    "model = CNNModel().to(device)\n",
    "optimizer = torch.optim.AdamW(params=model.parameters(), lr=2e-5)\n",
    "criterion = nn.CrossEntropyLoss()"
   ]
  },
  {
   "cell_type": "markdown",
   "id": "e45e5ee4",
   "metadata": {},
   "source": [
    "#### 创建训练代码"
   ]
  },
  {
   "cell_type": "code",
   "execution_count": 11,
   "id": "a42da9e5",
   "metadata": {},
   "outputs": [
    {
     "name": "stdout",
     "output_type": "stream",
     "text": [
      "Epoch 1/3, Loss: 0.6733\n",
      "Test Accuracy: 0.7553\n",
      "Test Accuracy: 0.7553\n",
      "Epoch 2/3, Loss: 0.5786\n",
      "Epoch 2/3, Loss: 0.5786\n",
      "Test Accuracy: 0.7843\n",
      "Test Accuracy: 0.7843\n",
      "Epoch 3/3, Loss: 0.4669\n",
      "Epoch 3/3, Loss: 0.4669\n",
      "Test Accuracy: 0.8200\n",
      "Test Accuracy: 0.8200\n"
     ]
    }
   ],
   "source": [
    "# 训练代码\n",
    "num_epochs = 3\n",
    "for epoch in range(num_epochs):\n",
    "    model.train()\n",
    "    total_loss = 0\n",
    "    for input_ids, attention_mask, labels in train_dataloader:\n",
    "        input_ids = input_ids.to(device)\n",
    "        attention_mask = attention_mask.to(device)\n",
    "        labels = labels.to(device)\n",
    "        with torch.no_grad():\n",
    "            outputs = bert(input_ids, attention_mask=attention_mask)\n",
    "            embeddings = outputs.last_hidden_state  # (batch, seq_len, embed_dim)\n",
    "        logits = model(embeddings)\n",
    "        loss = criterion(logits, labels)\n",
    "        optimizer.zero_grad()\n",
    "        loss.backward()\n",
    "        optimizer.step()\n",
    "        total_loss += loss.item()\n",
    "    avg_loss = total_loss / len(train_dataloader)\n",
    "    print(f\"Epoch {epoch+1}/{num_epochs}, Loss: {avg_loss:.4f}\")\n",
    "    # 简单评估\n",
    "    model.eval()\n",
    "    correct, total = 0, 0\n",
    "    with torch.no_grad():\n",
    "        for input_ids, attention_mask, labels in test_dataloader:\n",
    "            input_ids = input_ids.to(device)\n",
    "            attention_mask = attention_mask.to(device)\n",
    "            labels = labels.to(device)\n",
    "            outputs = bert(input_ids, attention_mask=attention_mask)\n",
    "            embeddings = outputs.last_hidden_state\n",
    "            logits = model(embeddings)\n",
    "            preds = torch.argmax(logits, dim=1)\n",
    "            correct += (preds == labels).sum().item()\n",
    "            total += labels.size(0)\n",
    "    acc = correct / total\n",
    "    print(f\"Test Accuracy: {acc:.4f}\")"
   ]
  }
 ],
 "metadata": {
  "kernelspec": {
   "display_name": "cs224n_dfp",
   "language": "python",
   "name": "python3"
  },
  "language_info": {
   "codemirror_mode": {
    "name": "ipython",
    "version": 3
   },
   "file_extension": ".py",
   "mimetype": "text/x-python",
   "name": "python",
   "nbconvert_exporter": "python",
   "pygments_lexer": "ipython3",
   "version": "3.8.20"
  }
 },
 "nbformat": 4,
 "nbformat_minor": 5
}
